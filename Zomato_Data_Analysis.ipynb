{
 "cells": [
  {
   "cell_type": "code",
   "execution_count": null,
   "id": "a445cfbb",
   "metadata": {},
   "outputs": [],
   "source": [
    "\n",
    "import pandas as pd\n",
    "import numpy as np\n",
    "import matplotlib.pyplot as plt\n",
    "import seaborn as sns\n",
    "import re\n"
   ]
  },
  {
   "cell_type": "code",
   "execution_count": null,
   "id": "4090b2b3",
   "metadata": {},
   "outputs": [],
   "source": [
    "\n",
    "df = pd.read_csv(\"zomato.csv\", encoding='latin1', on_bad_lines='skip')\n"
   ]
  },
  {
   "cell_type": "code",
   "execution_count": null,
   "id": "b64e21ff",
   "metadata": {},
   "outputs": [],
   "source": [
    "\n",
    "def extract_rating(val):\n",
    "    if isinstance(val, str):\n",
    "        match = re.search(r'(\\d\\.\\d)/5', val.strip())\n",
    "        if match:\n",
    "            return float(match.group(1))\n",
    "    return np.nan\n",
    "\n",
    "df['rate'] = df['rate'].apply(extract_rating)\n",
    "df['rate'].fillna(df['rate'].mean(), inplace=True)\n"
   ]
  },
  {
   "cell_type": "code",
   "execution_count": null,
   "id": "c111ed8a",
   "metadata": {},
   "outputs": [],
   "source": [
    "\n",
    "df.drop(['address', 'phone', 'dish_liked'], axis=1, inplace=True)\n"
   ]
  },
  {
   "cell_type": "code",
   "execution_count": null,
   "id": "7ce12180",
   "metadata": {},
   "outputs": [],
   "source": [
    "\n",
    "df['votes'] = df['votes'].astype(str).str.replace(',', '', regex=False)\n",
    "df['votes'] = pd.to_numeric(df['votes'], errors='coerce')\n",
    "df['votes'].fillna(0, inplace=True)\n"
   ]
  },
  {
   "cell_type": "code",
   "execution_count": null,
   "id": "a9511abd",
   "metadata": {},
   "outputs": [],
   "source": [
    "\n",
    "df['approx_cost(for two people)'] = df['approx_cost(for two people)'].astype(str).str.replace(',', '', regex=False)\n",
    "df['approx_cost(for two people)'] = pd.to_numeric(df['approx_cost(for two people)'], errors='coerce')\n"
   ]
  },
  {
   "cell_type": "code",
   "execution_count": null,
   "id": "6d7009ce",
   "metadata": {},
   "outputs": [],
   "source": [
    "\n",
    "df.dropna(inplace=True)\n",
    "df.drop_duplicates(inplace=True)\n"
   ]
  },
  {
   "cell_type": "code",
   "execution_count": null,
   "id": "6185e3d9",
   "metadata": {},
   "outputs": [],
   "source": [
    "\n",
    "sns.set_style(\"whitegrid\")\n",
    "plt.figure(figsize=(12,6))\n",
    "df['location'].value_counts()[:10].plot(kind='bar', color='coral')\n",
    "plt.title(\"Top 10 Restaurant Locations\")\n",
    "plt.ylabel(\"Number of Restaurants\")\n",
    "plt.xlabel(\"Location\")\n",
    "plt.xticks(rotation=45)\n",
    "plt.tight_layout()\n",
    "plt.show()\n"
   ]
  },
  {
   "cell_type": "code",
   "execution_count": null,
   "id": "f6835195",
   "metadata": {},
   "outputs": [],
   "source": [
    "\n",
    "sns.countplot(data=df, x='online_order', palette='Set2')\n",
    "plt.title(\"Online Ordering Availability\")\n",
    "plt.show()\n"
   ]
  },
  {
   "cell_type": "code",
   "execution_count": null,
   "id": "14f99f31",
   "metadata": {},
   "outputs": [],
   "source": [
    "\n",
    "plt.figure(figsize=(10,5))\n",
    "sns.histplot(df['rate'], bins=20, kde=True, color='skyblue')\n",
    "plt.title(\"Rating Distribution\")\n",
    "plt.xlabel(\"Rating\")\n",
    "plt.ylabel(\"Count\")\n",
    "plt.show()\n"
   ]
  },
  {
   "cell_type": "code",
   "execution_count": null,
   "id": "5f2d0270",
   "metadata": {},
   "outputs": [],
   "source": [
    "\n",
    "top_types = df['rest_type'].value_counts().nlargest(10).index\n",
    "plt.figure(figsize=(12,6))\n",
    "sns.boxplot(data=df[df['rest_type'].isin(top_types)], x='rest_type', y='rate')\n",
    "plt.title(\"Restaurant Type vs Rating\")\n",
    "plt.xticks(rotation=45)\n",
    "plt.show()\n"
   ]
  },
  {
   "cell_type": "code",
   "execution_count": null,
   "id": "8d79cb2b",
   "metadata": {},
   "outputs": [],
   "source": [
    "\n",
    "plt.figure(figsize=(10,6))\n",
    "sns.scatterplot(x='approx_cost(for two people)', y='rate', data=df, alpha=0.6)\n",
    "plt.title('Cost vs Rating')\n",
    "plt.xlabel('Approximate Cost for Two People')\n",
    "plt.ylabel('Rating')\n",
    "plt.show()\n"
   ]
  },
  {
   "cell_type": "code",
   "execution_count": null,
   "id": "d9ddd8b5",
   "metadata": {},
   "outputs": [],
   "source": [
    "\n",
    "from sklearn.model_selection import train_test_split\n",
    "from sklearn.linear_model import LogisticRegression\n",
    "from sklearn.metrics import accuracy_score, classification_report, confusion_matrix\n",
    "\n",
    "df['online_order'] = df['online_order'].map({'Yes': 1, 'No': 0})\n",
    "df['rest_type'] = df['rest_type'].astype('category').cat.codes\n",
    "\n",
    "X = df[['rate', 'votes', 'approx_cost(for two people)', 'rest_type']]\n",
    "y = df['online_order']\n",
    "\n",
    "X_train, X_test, y_train, y_test = train_test_split(X, y, test_size=0.2, random_state=42)\n",
    "\n",
    "model = LogisticRegression()\n",
    "model.fit(X_train, y_train)\n",
    "\n",
    "y_pred = model.predict(X_test)\n",
    "\n",
    "print(\"✅ Accuracy:\", accuracy_score(y_test, y_pred))\n",
    "print(\"\\n📊 Classification Report:\\n\", classification_report(y_test, y_pred))\n",
    "print(\"\\n🔍 Confusion Matrix:\\n\", confusion_matrix(y_test, y_pred))\n"
   ]
  }
 ],
 "metadata": {},
 "nbformat": 4,
 "nbformat_minor": 5
}
